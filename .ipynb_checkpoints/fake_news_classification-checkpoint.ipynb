{
 "cells": [
  {
   "cell_type": "code",
   "execution_count": 12,
   "id": "e78fc9c0",
   "metadata": {
    "ExecuteTime": {
     "end_time": "2024-04-21T10:18:34.238951Z",
     "start_time": "2024-04-21T10:18:34.225433Z"
    }
   },
   "outputs": [],
   "source": [
    "import pandas as pd \n",
    "import warnings\n",
    "warnings.filterwarnings('ignore')"
   ]
  },
  {
   "cell_type": "code",
   "execution_count": 2,
   "id": "1de174ee",
   "metadata": {
    "ExecuteTime": {
     "end_time": "2024-04-21T10:14:23.991418Z",
     "start_time": "2024-04-21T10:14:23.634106Z"
    }
   },
   "outputs": [
    {
     "data": {
      "text/html": [
       "<div>\n",
       "<style scoped>\n",
       "    .dataframe tbody tr th:only-of-type {\n",
       "        vertical-align: middle;\n",
       "    }\n",
       "\n",
       "    .dataframe tbody tr th {\n",
       "        vertical-align: top;\n",
       "    }\n",
       "\n",
       "    .dataframe thead th {\n",
       "        text-align: right;\n",
       "    }\n",
       "</style>\n",
       "<table border=\"1\" class=\"dataframe\">\n",
       "  <thead>\n",
       "    <tr style=\"text-align: right;\">\n",
       "      <th></th>\n",
       "      <th>id</th>\n",
       "      <th>title</th>\n",
       "      <th>text</th>\n",
       "      <th>label</th>\n",
       "    </tr>\n",
       "  </thead>\n",
       "  <tbody>\n",
       "    <tr>\n",
       "      <th>0</th>\n",
       "      <td>8476</td>\n",
       "      <td>You Can Smell Hillary’s Fear</td>\n",
       "      <td>Daniel Greenfield, a Shillman Journalism Fello...</td>\n",
       "      <td>FAKE</td>\n",
       "    </tr>\n",
       "    <tr>\n",
       "      <th>1</th>\n",
       "      <td>10294</td>\n",
       "      <td>Watch The Exact Moment Paul Ryan Committed Pol...</td>\n",
       "      <td>Google Pinterest Digg Linkedin Reddit Stumbleu...</td>\n",
       "      <td>FAKE</td>\n",
       "    </tr>\n",
       "    <tr>\n",
       "      <th>2</th>\n",
       "      <td>3608</td>\n",
       "      <td>Kerry to go to Paris in gesture of sympathy</td>\n",
       "      <td>U.S. Secretary of State John F. Kerry said Mon...</td>\n",
       "      <td>REAL</td>\n",
       "    </tr>\n",
       "    <tr>\n",
       "      <th>3</th>\n",
       "      <td>10142</td>\n",
       "      <td>Bernie supporters on Twitter erupt in anger ag...</td>\n",
       "      <td>— Kaydee King (@KaydeeKing) November 9, 2016 T...</td>\n",
       "      <td>FAKE</td>\n",
       "    </tr>\n",
       "    <tr>\n",
       "      <th>4</th>\n",
       "      <td>875</td>\n",
       "      <td>The Battle of New York: Why This Primary Matters</td>\n",
       "      <td>It's primary day in New York and front-runners...</td>\n",
       "      <td>REAL</td>\n",
       "    </tr>\n",
       "  </tbody>\n",
       "</table>\n",
       "</div>"
      ],
      "text/plain": [
       "      id                                              title  \\\n",
       "0   8476                       You Can Smell Hillary’s Fear   \n",
       "1  10294  Watch The Exact Moment Paul Ryan Committed Pol...   \n",
       "2   3608        Kerry to go to Paris in gesture of sympathy   \n",
       "3  10142  Bernie supporters on Twitter erupt in anger ag...   \n",
       "4    875   The Battle of New York: Why This Primary Matters   \n",
       "\n",
       "                                                text label  \n",
       "0  Daniel Greenfield, a Shillman Journalism Fello...  FAKE  \n",
       "1  Google Pinterest Digg Linkedin Reddit Stumbleu...  FAKE  \n",
       "2  U.S. Secretary of State John F. Kerry said Mon...  REAL  \n",
       "3  — Kaydee King (@KaydeeKing) November 9, 2016 T...  FAKE  \n",
       "4  It's primary day in New York and front-runners...  REAL  "
      ]
     },
     "execution_count": 2,
     "metadata": {},
     "output_type": "execute_result"
    }
   ],
   "source": [
    "df = pd.read_csv(\"fake_or_real_news.csv\")\n",
    "df.head()"
   ]
  },
  {
   "cell_type": "code",
   "execution_count": 4,
   "id": "881ecdc1",
   "metadata": {
    "ExecuteTime": {
     "end_time": "2024-04-21T10:15:03.893726Z",
     "start_time": "2024-04-21T10:15:03.873628Z"
    }
   },
   "outputs": [],
   "source": [
    "df = df[['text','label']]"
   ]
  },
  {
   "cell_type": "code",
   "execution_count": 7,
   "id": "e3276332",
   "metadata": {
    "ExecuteTime": {
     "end_time": "2024-04-21T10:15:19.518126Z",
     "start_time": "2024-04-21T10:15:19.496477Z"
    }
   },
   "outputs": [
    {
     "data": {
      "text/html": [
       "<div>\n",
       "<style scoped>\n",
       "    .dataframe tbody tr th:only-of-type {\n",
       "        vertical-align: middle;\n",
       "    }\n",
       "\n",
       "    .dataframe tbody tr th {\n",
       "        vertical-align: top;\n",
       "    }\n",
       "\n",
       "    .dataframe thead th {\n",
       "        text-align: right;\n",
       "    }\n",
       "</style>\n",
       "<table border=\"1\" class=\"dataframe\">\n",
       "  <thead>\n",
       "    <tr style=\"text-align: right;\">\n",
       "      <th></th>\n",
       "      <th>text</th>\n",
       "      <th>label</th>\n",
       "    </tr>\n",
       "  </thead>\n",
       "  <tbody>\n",
       "    <tr>\n",
       "      <th>0</th>\n",
       "      <td>Daniel Greenfield, a Shillman Journalism Fello...</td>\n",
       "      <td>FAKE</td>\n",
       "    </tr>\n",
       "    <tr>\n",
       "      <th>1</th>\n",
       "      <td>Google Pinterest Digg Linkedin Reddit Stumbleu...</td>\n",
       "      <td>FAKE</td>\n",
       "    </tr>\n",
       "    <tr>\n",
       "      <th>2</th>\n",
       "      <td>U.S. Secretary of State John F. Kerry said Mon...</td>\n",
       "      <td>REAL</td>\n",
       "    </tr>\n",
       "    <tr>\n",
       "      <th>3</th>\n",
       "      <td>— Kaydee King (@KaydeeKing) November 9, 2016 T...</td>\n",
       "      <td>FAKE</td>\n",
       "    </tr>\n",
       "    <tr>\n",
       "      <th>4</th>\n",
       "      <td>It's primary day in New York and front-runners...</td>\n",
       "      <td>REAL</td>\n",
       "    </tr>\n",
       "  </tbody>\n",
       "</table>\n",
       "</div>"
      ],
      "text/plain": [
       "                                                text label\n",
       "0  Daniel Greenfield, a Shillman Journalism Fello...  FAKE\n",
       "1  Google Pinterest Digg Linkedin Reddit Stumbleu...  FAKE\n",
       "2  U.S. Secretary of State John F. Kerry said Mon...  REAL\n",
       "3  — Kaydee King (@KaydeeKing) November 9, 2016 T...  FAKE\n",
       "4  It's primary day in New York and front-runners...  REAL"
      ]
     },
     "execution_count": 7,
     "metadata": {},
     "output_type": "execute_result"
    }
   ],
   "source": [
    "df.head()"
   ]
  },
  {
   "cell_type": "code",
   "execution_count": 8,
   "id": "9775669c",
   "metadata": {
    "ExecuteTime": {
     "end_time": "2024-04-21T10:15:57.604771Z",
     "start_time": "2024-04-21T10:15:57.593119Z"
    }
   },
   "outputs": [
    {
     "data": {
      "text/plain": [
       "(6335, 2)"
      ]
     },
     "execution_count": 8,
     "metadata": {},
     "output_type": "execute_result"
    }
   ],
   "source": [
    "df.shape"
   ]
  },
  {
   "cell_type": "code",
   "execution_count": 9,
   "id": "1de5e644",
   "metadata": {
    "ExecuteTime": {
     "end_time": "2024-04-21T10:16:43.815641Z",
     "start_time": "2024-04-21T10:16:43.801099Z"
    }
   },
   "outputs": [
    {
     "data": {
      "text/plain": [
       "REAL    3171\n",
       "FAKE    3164\n",
       "Name: label, dtype: int64"
      ]
     },
     "execution_count": 9,
     "metadata": {},
     "output_type": "execute_result"
    }
   ],
   "source": [
    "# Check Imbalance or Check the distribution of the data in dataset \n",
    "df['label'].value_counts()"
   ]
  },
  {
   "cell_type": "code",
   "execution_count": 33,
   "id": "7960549a",
   "metadata": {
    "ExecuteTime": {
     "end_time": "2024-04-21T10:44:18.177092Z",
     "start_time": "2024-04-21T10:44:18.168563Z"
    }
   },
   "outputs": [],
   "source": [
    "df['label_num'] = df['label'].map({'FAKE':0,'REAL':1})"
   ]
  },
  {
   "cell_type": "code",
   "execution_count": 14,
   "id": "0b771811",
   "metadata": {
    "ExecuteTime": {
     "end_time": "2024-04-21T10:18:37.211076Z",
     "start_time": "2024-04-21T10:18:37.184561Z"
    }
   },
   "outputs": [
    {
     "data": {
      "text/html": [
       "<div>\n",
       "<style scoped>\n",
       "    .dataframe tbody tr th:only-of-type {\n",
       "        vertical-align: middle;\n",
       "    }\n",
       "\n",
       "    .dataframe tbody tr th {\n",
       "        vertical-align: top;\n",
       "    }\n",
       "\n",
       "    .dataframe thead th {\n",
       "        text-align: right;\n",
       "    }\n",
       "</style>\n",
       "<table border=\"1\" class=\"dataframe\">\n",
       "  <thead>\n",
       "    <tr style=\"text-align: right;\">\n",
       "      <th></th>\n",
       "      <th>text</th>\n",
       "      <th>label</th>\n",
       "      <th>label_num</th>\n",
       "    </tr>\n",
       "  </thead>\n",
       "  <tbody>\n",
       "    <tr>\n",
       "      <th>0</th>\n",
       "      <td>Daniel Greenfield, a Shillman Journalism Fello...</td>\n",
       "      <td>FAKE</td>\n",
       "      <td>1</td>\n",
       "    </tr>\n",
       "    <tr>\n",
       "      <th>1</th>\n",
       "      <td>Google Pinterest Digg Linkedin Reddit Stumbleu...</td>\n",
       "      <td>FAKE</td>\n",
       "      <td>1</td>\n",
       "    </tr>\n",
       "    <tr>\n",
       "      <th>2</th>\n",
       "      <td>U.S. Secretary of State John F. Kerry said Mon...</td>\n",
       "      <td>REAL</td>\n",
       "      <td>1</td>\n",
       "    </tr>\n",
       "    <tr>\n",
       "      <th>3</th>\n",
       "      <td>— Kaydee King (@KaydeeKing) November 9, 2016 T...</td>\n",
       "      <td>FAKE</td>\n",
       "      <td>1</td>\n",
       "    </tr>\n",
       "    <tr>\n",
       "      <th>4</th>\n",
       "      <td>It's primary day in New York and front-runners...</td>\n",
       "      <td>REAL</td>\n",
       "      <td>1</td>\n",
       "    </tr>\n",
       "    <tr>\n",
       "      <th>...</th>\n",
       "      <td>...</td>\n",
       "      <td>...</td>\n",
       "      <td>...</td>\n",
       "    </tr>\n",
       "    <tr>\n",
       "      <th>6330</th>\n",
       "      <td>The State Department told the Republican Natio...</td>\n",
       "      <td>REAL</td>\n",
       "      <td>1</td>\n",
       "    </tr>\n",
       "    <tr>\n",
       "      <th>6331</th>\n",
       "      <td>The ‘P’ in PBS Should Stand for ‘Plutocratic’ ...</td>\n",
       "      <td>FAKE</td>\n",
       "      <td>1</td>\n",
       "    </tr>\n",
       "    <tr>\n",
       "      <th>6332</th>\n",
       "      <td>Anti-Trump Protesters Are Tools of the Oligar...</td>\n",
       "      <td>FAKE</td>\n",
       "      <td>1</td>\n",
       "    </tr>\n",
       "    <tr>\n",
       "      <th>6333</th>\n",
       "      <td>ADDIS ABABA, Ethiopia —President Obama convene...</td>\n",
       "      <td>REAL</td>\n",
       "      <td>1</td>\n",
       "    </tr>\n",
       "    <tr>\n",
       "      <th>6334</th>\n",
       "      <td>Jeb Bush Is Suddenly Attacking Trump. Here's W...</td>\n",
       "      <td>REAL</td>\n",
       "      <td>1</td>\n",
       "    </tr>\n",
       "  </tbody>\n",
       "</table>\n",
       "<p>6335 rows × 3 columns</p>\n",
       "</div>"
      ],
      "text/plain": [
       "                                                   text label  label_num\n",
       "0     Daniel Greenfield, a Shillman Journalism Fello...  FAKE          1\n",
       "1     Google Pinterest Digg Linkedin Reddit Stumbleu...  FAKE          1\n",
       "2     U.S. Secretary of State John F. Kerry said Mon...  REAL          1\n",
       "3     — Kaydee King (@KaydeeKing) November 9, 2016 T...  FAKE          1\n",
       "4     It's primary day in New York and front-runners...  REAL          1\n",
       "...                                                 ...   ...        ...\n",
       "6330  The State Department told the Republican Natio...  REAL          1\n",
       "6331  The ‘P’ in PBS Should Stand for ‘Plutocratic’ ...  FAKE          1\n",
       "6332   Anti-Trump Protesters Are Tools of the Oligar...  FAKE          1\n",
       "6333  ADDIS ABABA, Ethiopia —President Obama convene...  REAL          1\n",
       "6334  Jeb Bush Is Suddenly Attacking Trump. Here's W...  REAL          1\n",
       "\n",
       "[6335 rows x 3 columns]"
      ]
     },
     "execution_count": 14,
     "metadata": {},
     "output_type": "execute_result"
    }
   ],
   "source": [
    "df"
   ]
  },
  {
   "cell_type": "code",
   "execution_count": 16,
   "id": "3bb5399a",
   "metadata": {
    "ExecuteTime": {
     "end_time": "2024-04-21T10:19:38.197675Z",
     "start_time": "2024-04-21T10:19:32.991862Z"
    }
   },
   "outputs": [],
   "source": [
    "import spacy \n",
    "nlp = spacy.load('en_core_web_lg')"
   ]
  },
  {
   "cell_type": "code",
   "execution_count": 17,
   "id": "79729d09",
   "metadata": {
    "ExecuteTime": {
     "end_time": "2024-04-21T10:31:22.156844Z",
     "start_time": "2024-04-21T10:20:08.504474Z"
    }
   },
   "outputs": [],
   "source": [
    "df['vector'] = df['text'].apply(lambda text : nlp(text).vector)"
   ]
  },
  {
   "cell_type": "code",
   "execution_count": 18,
   "id": "4c28b57d",
   "metadata": {
    "ExecuteTime": {
     "end_time": "2024-04-21T10:31:22.204838Z",
     "start_time": "2024-04-21T10:31:22.191835Z"
    }
   },
   "outputs": [
    {
     "data": {
      "text/plain": [
       "6335"
      ]
     },
     "execution_count": 18,
     "metadata": {},
     "output_type": "execute_result"
    }
   ],
   "source": [
    "len(df)"
   ]
  },
  {
   "cell_type": "code",
   "execution_count": 35,
   "id": "f22a2205",
   "metadata": {
    "ExecuteTime": {
     "end_time": "2024-04-21T10:44:38.878988Z",
     "start_time": "2024-04-21T10:44:38.864411Z"
    }
   },
   "outputs": [
    {
     "data": {
      "text/html": [
       "<div>\n",
       "<style scoped>\n",
       "    .dataframe tbody tr th:only-of-type {\n",
       "        vertical-align: middle;\n",
       "    }\n",
       "\n",
       "    .dataframe tbody tr th {\n",
       "        vertical-align: top;\n",
       "    }\n",
       "\n",
       "    .dataframe thead th {\n",
       "        text-align: right;\n",
       "    }\n",
       "</style>\n",
       "<table border=\"1\" class=\"dataframe\">\n",
       "  <thead>\n",
       "    <tr style=\"text-align: right;\">\n",
       "      <th></th>\n",
       "      <th>text</th>\n",
       "      <th>label</th>\n",
       "      <th>label_num</th>\n",
       "      <th>vector</th>\n",
       "    </tr>\n",
       "  </thead>\n",
       "  <tbody>\n",
       "    <tr>\n",
       "      <th>0</th>\n",
       "      <td>Daniel Greenfield, a Shillman Journalism Fello...</td>\n",
       "      <td>FAKE</td>\n",
       "      <td>0</td>\n",
       "      <td>[-1.3751823, 1.3421849, -2.3666484, 0.12908486...</td>\n",
       "    </tr>\n",
       "    <tr>\n",
       "      <th>1</th>\n",
       "      <td>Google Pinterest Digg Linkedin Reddit Stumbleu...</td>\n",
       "      <td>FAKE</td>\n",
       "      <td>0</td>\n",
       "      <td>[-1.7449774, 0.93961924, -2.024867, 0.42536643...</td>\n",
       "    </tr>\n",
       "    <tr>\n",
       "      <th>2</th>\n",
       "      <td>U.S. Secretary of State John F. Kerry said Mon...</td>\n",
       "      <td>REAL</td>\n",
       "      <td>1</td>\n",
       "      <td>[-1.9426425, 1.0062195, -1.9992222, 0.20469022...</td>\n",
       "    </tr>\n",
       "    <tr>\n",
       "      <th>3</th>\n",
       "      <td>— Kaydee King (@KaydeeKing) November 9, 2016 T...</td>\n",
       "      <td>FAKE</td>\n",
       "      <td>0</td>\n",
       "      <td>[-1.9125352, -0.1481846, -1.1432766, 0.6861217...</td>\n",
       "    </tr>\n",
       "    <tr>\n",
       "      <th>4</th>\n",
       "      <td>It's primary day in New York and front-runners...</td>\n",
       "      <td>REAL</td>\n",
       "      <td>1</td>\n",
       "      <td>[-1.8516092, 1.3163909, -2.1726575, 1.2286776,...</td>\n",
       "    </tr>\n",
       "  </tbody>\n",
       "</table>\n",
       "</div>"
      ],
      "text/plain": [
       "                                                text label  label_num  \\\n",
       "0  Daniel Greenfield, a Shillman Journalism Fello...  FAKE          0   \n",
       "1  Google Pinterest Digg Linkedin Reddit Stumbleu...  FAKE          0   \n",
       "2  U.S. Secretary of State John F. Kerry said Mon...  REAL          1   \n",
       "3  — Kaydee King (@KaydeeKing) November 9, 2016 T...  FAKE          0   \n",
       "4  It's primary day in New York and front-runners...  REAL          1   \n",
       "\n",
       "                                              vector  \n",
       "0  [-1.3751823, 1.3421849, -2.3666484, 0.12908486...  \n",
       "1  [-1.7449774, 0.93961924, -2.024867, 0.42536643...  \n",
       "2  [-1.9426425, 1.0062195, -1.9992222, 0.20469022...  \n",
       "3  [-1.9125352, -0.1481846, -1.1432766, 0.6861217...  \n",
       "4  [-1.8516092, 1.3163909, -2.1726575, 1.2286776,...  "
      ]
     },
     "execution_count": 35,
     "metadata": {},
     "output_type": "execute_result"
    }
   ],
   "source": [
    "df.head()"
   ]
  },
  {
   "cell_type": "code",
   "execution_count": 36,
   "id": "bf99224d",
   "metadata": {
    "ExecuteTime": {
     "end_time": "2024-04-21T10:44:40.258534Z",
     "start_time": "2024-04-21T10:44:40.240696Z"
    }
   },
   "outputs": [],
   "source": [
    "from sklearn.model_selection import train_test_split\n",
    "\n",
    "x_train,x_test,y_train,y_test = train_test_split(df.vector.values,df.label_num,test_size = 0.2,random_state = 42)"
   ]
  },
  {
   "cell_type": "code",
   "execution_count": 37,
   "id": "a746d91b",
   "metadata": {
    "ExecuteTime": {
     "end_time": "2024-04-21T10:44:40.915511Z",
     "start_time": "2024-04-21T10:44:40.903464Z"
    }
   },
   "outputs": [
    {
     "data": {
      "text/plain": [
       "(5068,)"
      ]
     },
     "execution_count": 37,
     "metadata": {},
     "output_type": "execute_result"
    }
   ],
   "source": [
    "x_train.shape"
   ]
  },
  {
   "cell_type": "code",
   "execution_count": 38,
   "id": "fa10636e",
   "metadata": {
    "ExecuteTime": {
     "end_time": "2024-04-21T10:44:43.000533Z",
     "start_time": "2024-04-21T10:44:42.984448Z"
    }
   },
   "outputs": [],
   "source": [
    "import numpy as np \n",
    "x_train_stack = np.stack(x_train)\n",
    "x_test_stack = np.stack(x_test)"
   ]
  },
  {
   "cell_type": "code",
   "execution_count": 39,
   "id": "63034324",
   "metadata": {
    "ExecuteTime": {
     "end_time": "2024-04-21T10:44:43.639579Z",
     "start_time": "2024-04-21T10:44:43.631022Z"
    }
   },
   "outputs": [
    {
     "name": "stdout",
     "output_type": "stream",
     "text": [
      "(5068, 300)\n",
      "(1267, 300)\n"
     ]
    }
   ],
   "source": [
    "print(x_train_stack.shape)\n",
    "print(x_test_stack.shape)"
   ]
  },
  {
   "cell_type": "code",
   "execution_count": 40,
   "id": "e3e3d71b",
   "metadata": {
    "ExecuteTime": {
     "end_time": "2024-04-21T10:44:46.194774Z",
     "start_time": "2024-04-21T10:44:46.167170Z"
    }
   },
   "outputs": [],
   "source": [
    "from sklearn.naive_bayes import MultinomialNB\n",
    "model = MultinomialNB()\n",
    "from sklearn.preprocessing import MinMaxScaler\n",
    "scaler = MinMaxScaler()\n",
    "\n",
    "x_train_stack_sc = scaler.fit_transform(x_train_stack)\n",
    "x_test_stack_sc = scaler.transform(x_test_stack)"
   ]
  },
  {
   "cell_type": "code",
   "execution_count": 41,
   "id": "18bf20a7",
   "metadata": {
    "ExecuteTime": {
     "end_time": "2024-04-21T10:44:47.994179Z",
     "start_time": "2024-04-21T10:44:47.967156Z"
    }
   },
   "outputs": [
    {
     "data": {
      "text/plain": [
       "MultinomialNB()"
      ]
     },
     "execution_count": 41,
     "metadata": {},
     "output_type": "execute_result"
    }
   ],
   "source": [
    "model.fit(x_train_stack_sc,y_train)"
   ]
  },
  {
   "cell_type": "code",
   "execution_count": 42,
   "id": "6e1ac963",
   "metadata": {
    "ExecuteTime": {
     "end_time": "2024-04-21T10:44:49.010146Z",
     "start_time": "2024-04-21T10:44:48.990039Z"
    }
   },
   "outputs": [
    {
     "data": {
      "text/plain": [
       "array([0, 1, 0, ..., 0, 0, 1], dtype=int64)"
      ]
     },
     "execution_count": 42,
     "metadata": {},
     "output_type": "execute_result"
    }
   ],
   "source": [
    "y_pred = model.predict(x_test_stack_sc)\n",
    "y_pred"
   ]
  },
  {
   "cell_type": "code",
   "execution_count": 43,
   "id": "eb460ca5",
   "metadata": {
    "ExecuteTime": {
     "end_time": "2024-04-21T10:44:49.559311Z",
     "start_time": "2024-04-21T10:44:49.551126Z"
    }
   },
   "outputs": [
    {
     "data": {
      "text/plain": [
       "0.7640094711917916"
      ]
     },
     "execution_count": 43,
     "metadata": {},
     "output_type": "execute_result"
    }
   ],
   "source": [
    "from sklearn.metrics import accuracy_score\n",
    "accuracy_score(y_test,y_pred)"
   ]
  },
  {
   "cell_type": "code",
   "execution_count": 44,
   "id": "ef3f7a0a",
   "metadata": {
    "ExecuteTime": {
     "end_time": "2024-04-21T10:45:31.202558Z",
     "start_time": "2024-04-21T10:45:31.183492Z"
    }
   },
   "outputs": [
    {
     "name": "stdout",
     "output_type": "stream",
     "text": [
      "              precision    recall  f1-score   support\n",
      "\n",
      "           0       0.81      0.68      0.74       628\n",
      "           1       0.73      0.84      0.78       639\n",
      "\n",
      "    accuracy                           0.76      1267\n",
      "   macro avg       0.77      0.76      0.76      1267\n",
      "weighted avg       0.77      0.76      0.76      1267\n",
      "\n"
     ]
    }
   ],
   "source": [
    "from sklearn.metrics import classification_report\n",
    "print(classification_report(y_test,y_pred))"
   ]
  },
  {
   "cell_type": "code",
   "execution_count": 45,
   "id": "be1b4752",
   "metadata": {
    "ExecuteTime": {
     "end_time": "2024-04-21T10:46:02.264796Z",
     "start_time": "2024-04-21T10:46:02.254272Z"
    }
   },
   "outputs": [
    {
     "data": {
      "text/plain": [
       "array([[429, 199],\n",
       "       [100, 539]], dtype=int64)"
      ]
     },
     "execution_count": 45,
     "metadata": {},
     "output_type": "execute_result"
    }
   ],
   "source": [
    "from sklearn.metrics import confusion_matrix\n",
    "confusion_matrix(y_test,y_pred)"
   ]
  },
  {
   "cell_type": "code",
   "execution_count": null,
   "id": "093e2ef5",
   "metadata": {},
   "outputs": [],
   "source": [
    "import numpy as np\n",
    "sc = []\n",
    "for alpha in np.arange(0,1,0.1):   # 0, 0.1, 0.2, 0.3, ....1\n",
    "    model =  MultinomialNB(alpha = alpha)\n",
    "    model.fit(X_train, y_train)\n",
    "    model.predict(X_test)\n",
    "    sc1 = accuracy_score(y_test, y_pred)\n",
    "    sc.append(sc1)"
   ]
  },
  {
   "cell_type": "code",
   "execution_count": null,
   "id": "6f13e38d",
   "metadata": {},
   "outputs": [],
   "source": [
    "import gensim"
   ]
  }
 ],
 "metadata": {
  "kernelspec": {
   "display_name": "Python 3 (ipykernel)",
   "language": "python",
   "name": "python3"
  },
  "language_info": {
   "codemirror_mode": {
    "name": "ipython",
    "version": 3
   },
   "file_extension": ".py",
   "mimetype": "text/x-python",
   "name": "python",
   "nbconvert_exporter": "python",
   "pygments_lexer": "ipython3",
   "version": "3.9.13"
  },
  "varInspector": {
   "cols": {
    "lenName": 16,
    "lenType": 16,
    "lenVar": 40
   },
   "kernels_config": {
    "python": {
     "delete_cmd_postfix": "",
     "delete_cmd_prefix": "del ",
     "library": "var_list.py",
     "varRefreshCmd": "print(var_dic_list())"
    },
    "r": {
     "delete_cmd_postfix": ") ",
     "delete_cmd_prefix": "rm(",
     "library": "var_list.r",
     "varRefreshCmd": "cat(var_dic_list()) "
    }
   },
   "types_to_exclude": [
    "module",
    "function",
    "builtin_function_or_method",
    "instance",
    "_Feature"
   ],
   "window_display": false
  }
 },
 "nbformat": 4,
 "nbformat_minor": 5
}
